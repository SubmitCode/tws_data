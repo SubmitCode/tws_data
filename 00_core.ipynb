{
 "cells": [
  {
   "cell_type": "code",
   "execution_count": 72,
   "metadata": {},
   "outputs": [],
   "source": [
    "# default_exp tws_data\n",
    "# default_cls_lvl 2"
   ]
  },
  {
   "cell_type": "markdown",
   "metadata": {},
   "source": [
    "# this module helps to save and stream market data\n",
    "\n",
    "> an implementation of the IBAPI samples found [here](http://interactivebrokers.github.io/tws-api/)."
   ]
  },
  {
   "cell_type": "code",
   "execution_count": 11,
   "metadata": {},
   "outputs": [],
   "source": [
    "#hide\n",
    "from nbdev.showdoc import *"
   ]
  },
  {
   "cell_type": "markdown",
   "metadata": {},
   "source": [
    "## Contract definitions for subscriptions"
   ]
  },
  {
   "cell_type": "code",
   "execution_count": 60,
   "metadata": {},
   "outputs": [],
   "source": [
    "#export\n",
    "import datetime\n",
    "import collections\n",
    "import inspect\n",
    "\n",
    "import logging\n",
    "import time\n",
    "import os.path\n",
    "\n",
    "import pymongo\n",
    "from pymongo import MongoClient\n",
    "\n",
    "from ibapi import wrapper\n",
    "from ibapi import utils\n",
    "from ibapi.client import EClient\n",
    "from ibapi.utils import iswrapper\n",
    "\n",
    "\n",
    "from ibapi.common import * # @UnusedWildImport\n",
    "from ibapi.contract import * # @UnusedWildImport\n",
    "from ibapi.ticktype import * # @UnusedWildImport\n",
    "\n",
    "\n",
    "from fastscript import *"
   ]
  },
  {
   "cell_type": "code",
   "execution_count": 13,
   "metadata": {},
   "outputs": [],
   "source": [
    "#export \n",
    "def DAX():\n",
    "    #! [futcontract_multiplier]\n",
    "    contract = Contract()\n",
    "    contract.symbol = \"DAX\"\n",
    "    contract.secType = \"FUT\"\n",
    "    contract.exchange = \"DTB\"\n",
    "    contract.currency = \"EUR\"\n",
    "    contract.lastTradeDateOrContractMonth = \"202006\"\n",
    "    contract.multiplier = \"5\"    \n",
    "    return contract\n",
    "\n",
    "\n",
    "def STOXX():\n",
    "    #! [futcontract_multiplier]\n",
    "    contract = Contract()\n",
    "    contract.symbol = \"ESTX50\"\n",
    "    contract.secType = \"FUT\"\n",
    "    contract.exchange = \"DTB\"\n",
    "    contract.currency = \"EUR\"\n",
    "    contract.lastTradeDateOrContractMonth = \"202006\"\n",
    "    return contract\n",
    "\n",
    "\n",
    "def VSTOXX():\n",
    "    #! [futcontract_multiplier]\n",
    "    contract = Contract()\n",
    "    contract.symbol = \"V2TX\"\n",
    "    contract.secType = \"FUT\"\n",
    "    contract.exchange = \"DTB\"\n",
    "    contract.currency = \"EUR\"\n",
    "    contract.lastTradeDateOrContractMonth = \"202005\"\n",
    "    return contract\n"
   ]
  },
  {
   "cell_type": "code",
   "execution_count": 14,
   "metadata": {},
   "outputs": [],
   "source": [
    "#export\n",
    "def SetupLogger():\n",
    "    if not os.path.exists(\"log\"):\n",
    "        os.makedirs(\"log\")\n",
    "\n",
    "    time.strftime(\"pyibapi.%Y%m%d_%H%M%S.log\")\n",
    "\n",
    "    recfmt = '(%(threadName)s) %(asctime)s.%(msecs)03d %(levelname)s %(filename)s:%(lineno)d %(message)s'\n",
    "\n",
    "    timefmt = '%y%m%d_%H:%M:%S'\n",
    "\n",
    "    # logging.basicConfig( level=logging.DEBUG,\n",
    "    #                    format=recfmt, datefmt=timefmt)\n",
    "    logging.basicConfig(filename=time.strftime(\"log/pyibapi.%y%m%d_%H%M%S.log\"),\n",
    "                        filemode=\"w\",\n",
    "                        level=logging.INFO,\n",
    "                        format=recfmt, datefmt=timefmt)\n",
    "    logger = logging.getLogger()\n",
    "    console = logging.StreamHandler()\n",
    "    console.setLevel(logging.ERROR)\n",
    "    logger.addHandler(console)\n"
   ]
  },
  {
   "cell_type": "markdown",
   "metadata": {},
   "source": [
    "## Convinience functions and classes"
   ]
  },
  {
   "cell_type": "code",
   "execution_count": 15,
   "metadata": {},
   "outputs": [],
   "source": [
    "#export\n",
    "def printWhenExecuting(fn):\n",
    "    def fn2(self):\n",
    "        print(\"   doing\", fn.__name__)\n",
    "        fn(self)\n",
    "        print(\"   done w/\", fn.__name__)\n",
    "\n",
    "    return fn2\n",
    "\n",
    "def printinstance(inst:Object):\n",
    "    attrs = vars(inst)\n",
    "    print(', '.join(\"%s: %s\" % item for item in attrs.items()))\n",
    "\n",
    "class Activity(Object):\n",
    "    def __init__(self, reqMsgId, ansMsgId, ansEndMsgId, reqId):\n",
    "        self.reqMsdId = reqMsgId\n",
    "        self.ansMsgId = ansMsgId\n",
    "        self.ansEndMsgId = ansEndMsgId\n",
    "        self.reqId = reqId\n",
    "\n",
    "\n",
    "class RequestMgr(Object):\n",
    "    def __init__(self):\n",
    "        # I will keep this simple even if slower for now: only one list of\n",
    "        # requests finding will be done by linear search\n",
    "        self.requests = []\n",
    "\n",
    "    def addReq(self, req):\n",
    "        self.requests.append(req)\n",
    "\n",
    "    def receivedMsg(self, msg):\n",
    "        pass\n"
   ]
  },
  {
   "cell_type": "markdown",
   "metadata": {},
   "source": [
    "## Client\n"
   ]
  },
  {
   "cell_type": "code",
   "execution_count": 16,
   "metadata": {},
   "outputs": [],
   "source": [
    "#export\n",
    "class Client(EClient):\n",
    "    def __init__(self, wrapper):\n",
    "        EClient.__init__(self, wrapper)\n",
    "\n",
    "        # how many times a method is called to see test coverage\n",
    "        self.clntMeth2callCount = collections.defaultdict(int)\n",
    "        self.clntMeth2reqIdIdx = collections.defaultdict(lambda: -1)\n",
    "        self.reqId2nReq = collections.defaultdict(int)\n",
    "        self.setupDetectReqId()\n",
    "\n",
    "    def countReqId(self, methName, fn):\n",
    "        def countReqId_(*args, **kwargs):\n",
    "            self.clntMeth2callCount[methName] += 1\n",
    "            idx = self.clntMeth2reqIdIdx[methName]\n",
    "            if idx >= 0:\n",
    "                sign = -1 if 'cancel' in methName else 1\n",
    "                self.reqId2nReq[sign * args[idx]] += 1\n",
    "            return fn(*args, **kwargs)\n",
    "\n",
    "        return countReqId_\n",
    "\n",
    "    def setupDetectReqId(self):\n",
    "        methods = inspect.getmembers(EClient, inspect.isfunction)\n",
    "        for (methName, meth) in methods:\n",
    "            if methName != \"send_msg\":\n",
    "                # don't screw up the nice automated logging in the send_msg()\n",
    "                self.clntMeth2callCount[methName] = 0\n",
    "                # logging.debug(\"meth %s\", name)\n",
    "                sig = inspect.signature(meth)\n",
    "                for (idx, pnameNparam) in enumerate(sig.parameters.items()):\n",
    "                    (paramName, param) = pnameNparam # @UnusedVariable\n",
    "                    if paramName == \"reqId\":\n",
    "                        self.clntMeth2reqIdIdx[methName] = idx\n",
    "\n",
    "                setattr(Client, methName, self.countReqId(methName, meth))"
   ]
  },
  {
   "cell_type": "markdown",
   "metadata": {},
   "source": [
    "## Wrapper"
   ]
  },
  {
   "cell_type": "code",
   "execution_count": 17,
   "metadata": {},
   "outputs": [],
   "source": [
    "#export\n",
    "class Wrapper(wrapper.EWrapper):\n",
    "\n",
    "    def __init__(self):\n",
    "        wrapper.EWrapper.__init__(self)\n",
    "\n",
    "        self.wrapMeth2callCount = collections.defaultdict(int)\n",
    "        self.wrapMeth2reqIdIdx = collections.defaultdict(lambda: -1)\n",
    "        self.reqId2nAns = collections.defaultdict(int)\n",
    "        self.setupDetectWrapperReqId()\n",
    "\n",
    "    def countWrapReqId(self, methName, fn):\n",
    "        def countWrapReqId_(*args, **kwargs):\n",
    "            self.wrapMeth2callCount[methName] += 1\n",
    "            idx = self.wrapMeth2reqIdIdx[methName]\n",
    "            if idx >= 0:\n",
    "                self.reqId2nAns[args[idx]] += 1\n",
    "            return fn(*args, **kwargs)\n",
    "\n",
    "        return countWrapReqId_\n",
    "\n",
    "    def setupDetectWrapperReqId(self):\n",
    "\n",
    "        methods = inspect.getmembers(wrapper.EWrapper, inspect.isfunction)\n",
    "        for (methName, meth) in methods:\n",
    "            self.wrapMeth2callCount[methName] = 0\n",
    "            # logging.debug(\"meth %s\", name)\n",
    "            sig = inspect.signature(meth)\n",
    "            for (idx, pnameNparam) in enumerate(sig.parameters.items()):\n",
    "                (paramName, param) = pnameNparam # @UnusedVariable\n",
    "                # we want to count the errors as 'error' not 'answer'\n",
    "                if 'error' not in methName and paramName == \"reqId\":\n",
    "                    self.wrapMeth2reqIdIdx[methName] = idx\n",
    "\n",
    "            setattr(Wrapper, methName, self.countWrapReqId(methName, meth))"
   ]
  },
  {
   "cell_type": "markdown",
   "metadata": {},
   "source": [
    "## App"
   ]
  },
  {
   "cell_type": "code",
   "execution_count": 61,
   "metadata": {},
   "outputs": [],
   "source": [
    "#export\n",
    "def write_contract_to_mongo(reqId, contract:Contract, symbols:pymongo.collection.Collection):\n",
    "    \"\"\"write a contract to symbols database with valid from attribute\"\"\"\n",
    "    contract = vars(contract)\n",
    "    contract[\"reqId\"] = reqId\n",
    "    contract[\"validFrom\"] = datetime.datetime.now()\n",
    "    symbols.insert_one(contract)"
   ]
  },
  {
   "cell_type": "code",
   "execution_count": 59,
   "metadata": {},
   "outputs": [
    {
     "name": "stderr",
     "output_type": "stream",
     "text": [
      "<ipython-input-59-3447ad657b17>:6: DeprecationWarning: count is deprecated. Use estimated_document_count or count_documents instead. Please note that $where must be replaced by $expr, $near must be replaced by $geoWithin with $center, and $nearSphere must be replaced by $geoWithin with $centerSphere\n",
      "  assert collection.count() == 1\n"
     ]
    }
   ],
   "source": [
    "client = MongoClient()\n",
    "db = client[\"test\"]\n",
    "collection = db[\"test_syms\"]\n",
    "collection.drop()\n",
    "write_contract_to_mongo(-999, DAX(), collection)\n",
    "assert collection.count() == 1\n",
    "collection.drop()\n"
   ]
  },
  {
   "cell_type": "code",
   "execution_count": 65,
   "metadata": {},
   "outputs": [],
   "source": [
    "#export\n",
    "class App(Wrapper, Client):\n",
    "    def __init__(self):\n",
    "        Wrapper.__init__(self)\n",
    "        Client.__init__(self, wrapper=self)\n",
    "        self.nKeybInt = 0\n",
    "        self.started = False\n",
    "        self.nextValidOrderId = None\n",
    "        self.permId2ord = {}\n",
    "        self.reqId2nErr = collections.defaultdict(int)\n",
    "        self.globalCancelOnly = False\n",
    "        self.simplePlaceOid = None\n",
    "        self.mongo = MongoClient()[\"tws_data\"]\n",
    "        self.depthSubs = {}\n",
    "\n",
    "    def dumpTestCoverageSituation(self):\n",
    "        for clntMeth in sorted(self.clntMeth2callCount.keys()):\n",
    "            logging.debug(\"ClntMeth: %-30s %6d\" % (clntMeth,\n",
    "                                                   self.clntMeth2callCount[clntMeth]))\n",
    "\n",
    "        for wrapMeth in sorted(self.wrapMeth2callCount.keys()):\n",
    "            logging.debug(\"WrapMeth: %-30s %6d\" % (wrapMeth,\n",
    "                                                   self.wrapMeth2callCount[wrapMeth]))\n",
    "\n",
    "    def dumpReqAnsErrSituation(self):\n",
    "        logging.debug(\"%s\\t%s\\t%s\\t%s\" % (\"ReqId\", \"#Req\", \"#Ans\", \"#Err\"))\n",
    "        for reqId in sorted(self.reqId2nReq.keys()):\n",
    "            nReq = self.reqId2nReq.get(reqId, 0)\n",
    "            nAns = self.reqId2nAns.get(reqId, 0)\n",
    "            nErr = self.reqId2nErr.get(reqId, 0)\n",
    "            logging.debug(\"%d\\t%d\\t%s\\t%d\" % (reqId, nReq, nAns, nErr))\n",
    "\n",
    "    @iswrapper\n",
    "    def connectAck(self):\n",
    "        if self.asynchronous:\n",
    "            self.startApi()\n",
    "\n",
    "    @iswrapper\n",
    "    # ! [nextvalidid]\n",
    "    def nextValidId(self, orderId: int):\n",
    "        super().nextValidId(orderId)\n",
    "        logging.debug(\"setting nextValidOrderId: %d\", orderId)\n",
    "        self.nextValidOrderId = orderId\n",
    "        print(\"NextValidId:\", orderId)\n",
    "        self.start()\n",
    "\n",
    "    def start(self):\n",
    "        if self.started:\n",
    "            return\n",
    "        self.started = True\n",
    "        print(\"Executing requests\")\n",
    "        self.tickByTickOperations_req()\n",
    "        self.marketDepthOperations_req()            \n",
    "        print(\"Executing requests ... finished\")\n",
    "\n",
    "    def keyboardInterrupt(self):\n",
    "        self.nKeybInt += 1\n",
    "        if self.nKeybInt == 1:\n",
    "            self.stop()\n",
    "        else:\n",
    "            print(\"Finishing test\")\n",
    "            self.done = True\n",
    "\n",
    "    def stop(self):\n",
    "        print(\"Executing cancels\")\n",
    "        self.tickByTickOperations_cancel()\n",
    "        self.marketDepthOperations_cancel()\n",
    "        print(\"Executing cancels ... finished\")\n",
    "\n",
    "    def nextOrderId(self):\n",
    "        oid = self.nextValidOrderId\n",
    "        self.nextValidOrderId += 1\n",
    "        return oid\n",
    "\n",
    "    @iswrapper\n",
    "    # ! [error]\n",
    "    def error(self, reqId: TickerId, errorCode: int, errorString: str):\n",
    "        super().error(reqId, errorCode, errorString)\n",
    "        print(\"Error. Id:\", reqId, \"Code:\", errorCode, \"Msg:\", errorString)\n",
    "\n",
    "    @iswrapper\n",
    "    def winError(self, text: str, lastError: int):\n",
    "        super().winError(text, lastError)\n",
    "    \n",
    "    @printWhenExecuting\n",
    "    def marketDepthOperations_req(self):\n",
    "        self.reqMktDepth(2001, STOXX(), 5, False, []) \n",
    "        write_contract_to_mongo(2001, STOXX(), self.mongo[\"reference_data\"])\n",
    "        self.reqMktDepth(2002, DAX(), 5, False, [])\n",
    "        write_contract_to_mongo(2002, DAX(), self.mongo[\"reference_data\"])\n",
    "        self.reqMktDepth(2003, VSTOXX(), 5, False, [])\n",
    "        write_contract_to_mongo(2003, VSTOXX(), self.mongo[\"reference_data\"])\n",
    "     \n",
    "    @printWhenExecuting\n",
    "    def marketDepthOperations_cancel(self):\n",
    "        self.cancelMktDepth(2001, False)\n",
    "        self.cancelMktDepth(2002, False)\n",
    "        self.cancelMktDepth(2003, False)    \n",
    "\n",
    "    @printWhenExecuting\n",
    "    def tickByTickOperations_req(self):\n",
    "        self.reqTickByTickData(19001, STOXX(), \"Last\", 0, True)\n",
    "        write_contract_to_mongo(19001, STOXX(), self.mongo[\"reference_data\"])\n",
    "        self.reqTickByTickData(19002, DAX(), \"Last\", 0, True)\n",
    "        write_contract_to_mongo(19002, DAX(), self.mongo[\"reference_data\"])\n",
    "        self.reqTickByTickData(19003, VSTOXX(), \"Last\", 0, True)        \n",
    "        write_contract_to_mongo(19003, VSTOXX(), self.mongo[\"reference_data\"])\n",
    "\n",
    "    @printWhenExecuting\n",
    "    def tickByTickOperations_cancel(self):   \n",
    "        self.cancelTickByTickData(19001)   \n",
    "        self.cancelTickByTickData(19002)   \n",
    "        self.cancelTickByTickData(19003)   \n",
    "        \n",
    "    @iswrapper\n",
    "    def updateMktDepth(self, reqId: TickerId, position: int, operation: int,\n",
    "                       side: int, price: float, size: int):\n",
    "        super().updateMktDepth(reqId, position, operation, side, price, size)\n",
    "        data = {\n",
    "            \"time\": datetime.datetime.now(),\n",
    "            \"reqId\": reqId,\n",
    "            \"position\": position,\n",
    "            \"operation\": operation,\n",
    "            \"side\": side,\n",
    "            \"price\": price,\n",
    "            \"size\": size\n",
    "        }\n",
    "        self.mongo[\"orderbook\"].insert_one(data)\n",
    "        \n",
    " \n",
    "    @iswrapper    \n",
    "    def tickByTickAllLast(self, reqId: int, tickType: int, time: int, price: float,\n",
    "                          size: int, tickAtrribLast: TickAttribLast, exchange: str,\n",
    "                          specialConditions: str):\n",
    "        super().tickByTickAllLast(reqId, tickType, time, price, size, tickAtrribLast,\n",
    "                                  exchange, specialConditions)\n",
    "        \n",
    "        data = {\n",
    "            \"reqId\": reqId,\n",
    "            \"tickType\": tickType,            \n",
    "            \"time\": time,\n",
    "            \"price\": price,\n",
    "            \"size\": size            \n",
    "        }\n",
    "        self.mongo[\"tick_data\"].insert_one(data)\n",
    "        "
   ]
  },
  {
   "cell_type": "markdown",
   "metadata": {},
   "source": [
    "## Main function"
   ]
  },
  {
   "cell_type": "code",
   "execution_count": 66,
   "metadata": {},
   "outputs": [],
   "source": [
    "#export\n",
    "@call_parse\n",
    "def start_stream():\n",
    "    \"\"\"start stream\"\"\"\n",
    "    SetupLogger()\n",
    "    logging.debug(\"now is %s\", datetime.datetime.now())\n",
    "    logging.getLogger().setLevel(logging.ERROR)\n",
    "\n",
    "    from ibapi import utils  \n",
    "    Contract.__setattr__ = utils.setattr_log  \n",
    "    try:\n",
    "        app = App()\n",
    "        app.connect(\"127.0.0.1\", 7497, clientId=0)\n",
    "        app.run()        \n",
    "    except:\n",
    "        raise\n",
    "    finally:\n",
    "        app.dumpTestCoverageSituation()\n",
    "        app.dumpReqAnsErrSituation()\n",
    "    "
   ]
  },
  {
   "cell_type": "code",
   "execution_count": null,
   "metadata": {
    "scrolled": true
   },
   "outputs": [],
   "source": [
    "#noTest\n",
    "start_stream()"
   ]
  },
  {
   "cell_type": "markdown",
   "metadata": {},
   "source": [
    "## export"
   ]
  },
  {
   "cell_type": "code",
   "execution_count": 69,
   "metadata": {},
   "outputs": [
    {
     "name": "stdout",
     "output_type": "stream",
     "text": [
      "Converted 00_core.ipynb.\n",
      "Converted index.ipynb.\n"
     ]
    }
   ],
   "source": [
    "from nbdev.export import *\n",
    "notebook2script()"
   ]
  },
  {
   "cell_type": "code",
   "execution_count": 71,
   "metadata": {},
   "outputs": [
    {
     "name": "stdout",
     "output_type": "stream",
     "text": [
      "NextValidId: 101\n",
      "Executing requests\n",
      "   doing tickByTickOperations_req\n",
      "   done w/ tickByTickOperations_req\n",
      "   doing marketDepthOperations_req\n",
      "   done w/ marketDepthOperations_req\n",
      "Executing requests ... finished\n",
      "ERROR -1 2104 Market data farm connection is OK:usfarm.nj\n",
      "Error. Id: -1 Code: 2104 Msg: Market data farm connection is OK:usfarm.nj\n",
      "ERROR -1 2104 Market data farm connection is OK:hfarm\n",
      "Error. Id: -1 Code: 2104 Msg: Market data farm connection is OK:hfarm\n",
      "ERROR -1 2104 Market data farm connection is OK:usfuture\n",
      "Error. Id: -1 Code: 2104 Msg: Market data farm connection is OK:usfuture\n",
      "ERROR -1 2104 Market data farm connection is OK:eufarm\n",
      "Error. Id: -1 Code: 2104 Msg: Market data farm connection is OK:eufarm\n",
      "ERROR -1 2104 Market data farm connection is OK:cashfarm\n",
      "Error. Id: -1 Code: 2104 Msg: Market data farm connection is OK:cashfarm\n",
      "ERROR -1 2104 Market data farm connection is OK:usfarm\n",
      "Error. Id: -1 Code: 2104 Msg: Market data farm connection is OK:usfarm\n",
      "ERROR -1 2106 HMDS data farm connection is OK:euhmds\n",
      "Error. Id: -1 Code: 2106 Msg: HMDS data farm connection is OK:euhmds\n",
      "ERROR -1 2106 HMDS data farm connection is OK:fundfarm\n",
      "Error. Id: -1 Code: 2106 Msg: HMDS data farm connection is OK:fundfarm\n",
      "ERROR -1 2106 HMDS data farm connection is OK:ushmds\n",
      "Error. Id: -1 Code: 2106 Msg: HMDS data farm connection is OK:ushmds\n",
      "ERROR -1 2158 Sec-def data farm connection is OK:secdefnj\n",
      "Error. Id: -1 Code: 2158 Msg: Sec-def data farm connection is OK:secdefnj\n",
      "^C\n",
      "Executing cancels\n",
      "   doing tickByTickOperations_cancel\n",
      "   done w/ tickByTickOperations_cancel\n",
      "   doing marketDepthOperations_cancel\n",
      "   done w/ marketDepthOperations_cancel\n",
      "Executing cancels ... finished\n"
     ]
    }
   ],
   "source": [
    "!python tws_data/tws_data.py"
   ]
  },
  {
   "cell_type": "code",
   "execution_count": null,
   "metadata": {},
   "outputs": [],
   "source": []
  }
 ],
 "metadata": {
  "hide_input": false,
  "kernelspec": {
   "display_name": "Python 3",
   "language": "python",
   "name": "python3"
  },
  "language_info": {
   "codemirror_mode": {
    "name": "ipython",
    "version": 3
   },
   "file_extension": ".py",
   "mimetype": "text/x-python",
   "name": "python",
   "nbconvert_exporter": "python",
   "pygments_lexer": "ipython3",
   "version": "3.8.0"
  },
  "toc": {
   "base_numbering": 1,
   "nav_menu": {},
   "number_sections": true,
   "sideBar": true,
   "skip_h1_title": false,
   "title_cell": "Table of Contents",
   "title_sidebar": "Contents",
   "toc_cell": false,
   "toc_position": {},
   "toc_section_display": true,
   "toc_window_display": true
  },
  "varInspector": {
   "cols": {
    "lenName": 16,
    "lenType": 16,
    "lenVar": 40
   },
   "kernels_config": {
    "python": {
     "delete_cmd_postfix": "",
     "delete_cmd_prefix": "del ",
     "library": "var_list.py",
     "varRefreshCmd": "print(var_dic_list())"
    },
    "r": {
     "delete_cmd_postfix": ") ",
     "delete_cmd_prefix": "rm(",
     "library": "var_list.r",
     "varRefreshCmd": "cat(var_dic_list()) "
    }
   },
   "types_to_exclude": [
    "module",
    "function",
    "builtin_function_or_method",
    "instance",
    "_Feature"
   ],
   "window_display": false
  }
 },
 "nbformat": 4,
 "nbformat_minor": 2
}
